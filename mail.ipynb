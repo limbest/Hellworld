{
 "cells": [
  {
   "cell_type": "code",
   "execution_count": 11,
   "metadata": {},
   "outputs": [],
   "source": [
    "from email.mime.text import MIMEText\n",
    "from email.mime.multipart import MIMEMultipart\n",
    "import smtplib\n",
    "\n",
    "SMTP_SERVER = 'smtp.gmail.com'\n",
    "SMTP_USER = 'boanteam123@gmail.com'\n",
    "SMTP_PASSWORD = ''\n",
    "SMTP_PORT=465\n",
    "\n",
    "def send_mail(name, addr, subject, contents):\n",
    "    msg=MIMEMultipart('alternative')\n",
    "    msg['From']=SMTP_USER\n",
    "    msg['To']=addr\n",
    "    msg['Subject']= name + ' ' + subject\n",
    "    text=MIMEText(contents, _charset = 'utf-8')\n",
    "    msg.attach(text)\n",
    "\n",
    "    smtp=smtplib.SMTP_SSL(SMTP_SERVER, SMTP_PORT)\n",
    "    smtp.login(SMTP_USER, SMTP_PASSWORD)\n",
    "    smtp.sendmail(SMTP_USER, addr, msg.as_string())\n",
    "    smtp.close()\n",
    "\n",
    "contents='''AI보안 전문가 테스트 메일입니다.'''\n",
    "send_mail('LIM', 'limhojin123@naver.com', '자동메일 테스트입니다', contents)"
   ]
  },
  {
   "cell_type": "code",
   "execution_count": 17,
   "metadata": {},
   "outputs": [
    {
     "ename": "PermissionError",
     "evalue": "[Errno 13] Permission denied: '\\\\\\\\.\\\\PhysicalDrive1'",
     "output_type": "error",
     "traceback": [
      "\u001b[1;31m---------------------------------------------------------------------------\u001b[0m",
      "\u001b[1;31mPermissionError\u001b[0m                           Traceback (most recent call last)",
      "\u001b[1;32m<ipython-input-17-14d547ad7f58>\u001b[0m in \u001b[0;36m<module>\u001b[1;34m\u001b[0m\n\u001b[1;32m----> 1\u001b[1;33m \u001b[0mhandle\u001b[0m\u001b[1;33m=\u001b[0m\u001b[0mopen\u001b[0m\u001b[1;33m(\u001b[0m\u001b[1;34m'\\\\\\\\.\\\\PhysicalDrive1'\u001b[0m\u001b[1;33m,\u001b[0m \u001b[1;34m'rb'\u001b[0m\u001b[1;33m)\u001b[0m\u001b[1;33m\u001b[0m\u001b[1;33m\u001b[0m\u001b[0m\n\u001b[0m\u001b[0;32m      2\u001b[0m \u001b[0mhandle\u001b[0m\u001b[1;33m.\u001b[0m\u001b[0mseek\u001b[0m\u001b[1;33m(\u001b[0m\u001b[1;36m0\u001b[0m\u001b[1;33m)\u001b[0m\u001b[1;33m\u001b[0m\u001b[1;33m\u001b[0m\u001b[0m\n\u001b[0;32m      3\u001b[0m \u001b[0mmbr\u001b[0m\u001b[1;33m=\u001b[0m\u001b[0mhandle\u001b[0m\u001b[1;33m.\u001b[0m\u001b[0mread\u001b[0m\u001b[1;33m(\u001b[0m\u001b[1;36m512\u001b[0m\u001b[1;33m)\u001b[0m\u001b[1;33m\u001b[0m\u001b[1;33m\u001b[0m\u001b[0m\n\u001b[0;32m      4\u001b[0m \u001b[1;32mif\u001b[0m \u001b[0mord\u001b[0m\u001b[1;33m(\u001b[0m\u001b[0mmbr\u001b[0m\u001b[1;33m[\u001b[0m\u001b[1;36m510\u001b[0m\u001b[1;33m]\u001b[0m\u001b[1;33m)\u001b[0m\u001b[1;33m==\u001b[0m\u001b[1;36m0x55\u001b[0m \u001b[1;32mand\u001b[0m \u001b[0mord\u001b[0m\u001b[1;33m(\u001b[0m\u001b[0mmbr\u001b[0m\u001b[1;33m[\u001b[0m\u001b[1;36m511\u001b[0m\u001b[1;33m]\u001b[0m\u001b[1;33m)\u001b[0m\u001b[1;33m==\u001b[0m\u001b[1;36m0xAA\u001b[0m \u001b[1;33m:\u001b[0m\u001b[1;33m\u001b[0m\u001b[1;33m\u001b[0m\u001b[0m\n\u001b[0;32m      5\u001b[0m     \u001b[0mprint\u001b[0m\u001b[1;33m(\u001b[0m\u001b[1;34m'MBR Read Sucess'\u001b[0m\u001b[1;33m)\u001b[0m\u001b[1;33m\u001b[0m\u001b[1;33m\u001b[0m\u001b[0m\n",
      "\u001b[1;31mPermissionError\u001b[0m: [Errno 13] Permission denied: '\\\\\\\\.\\\\PhysicalDrive1'"
     ]
    }
   ],
   "source": [
    "handle=open('\\\\\\\\.\\\\PhysicalDrive0', 'rb')\n",
    "handle.seek(0)\n",
    "mbr=handle.read(512)\n",
    "if ord(mbr[510])==0x55 and ord(mbr[511])==0xAA :\n",
    "    print('MBR Read Sucess')\n",
    "else :\n",
    "    print ('MBR Read Fail')\n",
    "handle.close"
   ]
  },
  {
   "cell_type": "code",
   "execution_count": 21,
   "metadata": {},
   "outputs": [
    {
     "name": "stdout",
     "output_type": "stream",
     "text": [
      "b'5ShP2qEa9aLfslNjLz3VGRfwn42UqAVBN/I8sac5tpY='\n",
      "My name is LIM\n"
     ]
    }
   ],
   "source": [
    "import base64\n",
    "from Crypto import Random\n",
    "from Crypto.Cipher import AES\n",
    "\n",
    "# 패딩\n",
    "BS = 16\n",
    "pad = lambda s: s + (BS - len(s.encode('utf-8')) % BS) * chr(BS - len(s.encode('utf-8')) % BS)\n",
    "unpad = lambda s : s[:-ord(s[len(s)-1:])]\n",
    "\n",
    "# 암호화 키\n",
    "key = [0x10, 0x01, 0x15, 0x1B, 0xA1, 0x11, 0x57, 0x72, 0x6C, 0x21, 0x56, 0x57, 0x62, 0x16, 0x05, 0x3D,\n",
    "        0xFF, 0xFE, 0x11, 0x1B, 0x21, 0x31, 0x57, 0x72, 0x6B, 0x21, 0xA6, 0xA7, 0x6E, 0xE6, 0xE5, 0x3F]\n",
    "\n",
    "\n",
    "class AESCipher:\n",
    "    def __init__( self, key ):\n",
    "        self.key = key\n",
    "\n",
    "    def encrypt( self, raw ):\n",
    "        raw = pad(raw)\n",
    "        iv = Random.new().read( AES.block_size )\n",
    "        cipher = AES.new( self.key, AES.MODE_CBC, iv )\n",
    "        return base64.b64encode( iv + cipher.encrypt( raw.encode('utf-8') ) )\n",
    "\n",
    "    def decrypt( self, enc ):\n",
    "        enc = base64.b64decode(enc)\n",
    "        iv = enc[:16]\n",
    "        cipher = AES.new(self.key, AES.MODE_CBC, iv )\n",
    "        return unpad(cipher.decrypt( enc[16:] ))\n",
    "\n",
    "data = \"My name is LIM\"\n",
    "encrypted_data = AESCipher(bytes(key)).encrypt(data)  \n",
    "print(encrypted_data)\n",
    "\n",
    "decrypted_data = AESCipher(bytes(key)).decrypt(encrypted_data)\n",
    "print(decrypted_data.decode('utf-8'))"
   ]
  },
  {
   "cell_type": "markdown",
   "metadata": {},
   "source": [
    "# 파이썬 테스트\n"
   ]
  },
  {
   "cell_type": "code",
   "execution_count": 2,
   "metadata": {},
   "outputs": [
    {
     "name": "stdout",
     "output_type": "stream",
     "text": [
      "파이썬 테스트입니다.\n"
     ]
    }
   ],
   "source": [
    "print ('파이썬 테스트입니다.')"
   ]
  }
 ],
 "metadata": {
  "kernelspec": {
   "display_name": "Python 3",
   "language": "python",
   "name": "python3"
  },
  "language_info": {
   "codemirror_mode": {
    "name": "ipython",
    "version": 3
   },
   "file_extension": ".py",
   "mimetype": "text/x-python",
   "name": "python",
   "nbconvert_exporter": "python",
   "pygments_lexer": "ipython3",
   "version": "3.7.4"
  }
 },
 "nbformat": 4,
 "nbformat_minor": 2
}
