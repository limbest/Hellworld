{
 "cells": [
  {
   "cell_type": "markdown",
   "metadata": {},
   "source": [
    "# Web Proxy"
   ]
  },
  {
   "cell_type": "code",
   "execution_count": 2,
   "metadata": {},
   "outputs": [
    {
     "name": "stdout",
     "output_type": "stream",
     "text": [
      "('127.0.0.1', 57421) 에서 접속이 확인되었습니다.\n",
      "받은 데이터 :  GET http://127.0.0.1/vulnerabilities/sqli/?id=1&Submit=Submit HTTP/1.1\r\n",
      "Host: 127.0.0.1\r\n",
      "User-Agent: Mozilla/5.0 (X11; Linux i686; rv:24.0) Gecko/20140723 Firefox/24.0 Iceweasel/24.7.0\r\n",
      "Accept: text/html,application/xhtml+xml,application/xml;q=0.9,*/*;q=0.8\r\n",
      "Accept-Language: en-US,en;q=0.5\r\n",
      "Accept-Encoding: gzip, deflate\r\n",
      "Cookie: dtck_first=20191215; PHPSESSID=21004lnnv3op2mq4csvdcduie7; security=low\r\n",
      "Connection: keep-alive\r\n",
      "\r\n",
      "\n"
     ]
    }
   ],
   "source": [
    "import os \n",
    "import pandas as pd\n",
    "from socket import *\n",
    "serverSock = socket(AF_INET, SOCK_STREAM)\n",
    "serverSock.bind(('', 5000))\n",
    "serverSock.listen(1)\n",
    "connectionSock, addr = serverSock.accept()\n",
    "print(str(addr),'에서 접속이 확인되었습니다.')\n",
    "data = connectionSock.recv(1024)\n",
    "print('받은 데이터 : ', data.decode('utf-8'))\n",
    "serverSock.close()"
   ]
  },
  {
   "cell_type": "code",
   "execution_count": 9,
   "metadata": {},
   "outputs": [
    {
     "name": "stdout",
     "output_type": "stream",
     "text": [
      "('127.0.0.1', 57825) 에서 접속이 확인되었습니다.\n",
      "웹브라우저에서 받은 데이터 :  GET http://localhost/DVWA HTTP/1.1\r\n",
      "Host: localhost\r\n",
      "User-Agent: Mozilla/5.0 (X11; Linux i686; rv:24.0) Gecko/20140723 Firefox/24.0 Iceweasel/24.7.0\r\n",
      "Accept: text/html,application/xhtml+xml,application/xml;q=0.9,*/*;q=0.8\r\n",
      "Accept-Language: en-US,en;q=0.5\r\n",
      "Accept-Encoding: gzip, deflate\r\n",
      "Connection: keep-alive\r\n",
      "\r\n",
      "\n",
      "연결 확인 됐습니다.\n",
      "웹서버로 메시지를 전송했습니다.\n",
      "받은 데이터 :  b'HTTP/1.1 404 Not Found\\r\\nDate: Sun, 09 Aug 2020 01:28:21 GMT\\r\\nServer: Apache/2.2.22 (Debian)\\r\\nVary: Accept-Encoding\\r\\nContent-Encoding: gzip\\r\\nContent-Length: 231\\r\\nKeep-Alive: timeout=5, max=100\\r\\nConnection: Keep-Alive\\r\\nContent-Type: text/html; charset=iso-8859-1\\r\\n\\r\\n\\x1f\\x8b\\x08\\x00\\x00\\x00\\x00\\x00\\x00\\x03M\\x8fAK\\xc3@\\x10\\x85\\xef\\xf9\\x15\\xcf\\x9e\\xf4`&\\x86\\x1e<,\\x0b\\xb5I\\xb1\\x10k\\xd0\\xad\\xe2q\\xdb\\x1d\\xd9@\\xcc\\xc6\\xdd\\xad\\xe2\\xbfw\\x93\"\\xc8\\xc0\\xc0\\x9b\\xf9\\xde\\xf0F\\\\T\\x8fk\\xf5\\xd6\\xd6\\xb8W\\x0f\\r\\xda\\xfd]\\xb3]cqM\\xb4\\xad\\xd5\\x86\\xa8R\\xd5yS\\xe6\\x05Q\\xbd[\\xc8L\\xd8\\xf8\\xd1KaY\\x9b$b\\x17{\\x96\\xcbb\\x89\\x9d\\x8b\\xd8\\xb8\\xd3`\\x04\\x9d\\x87\\x99\\xa0\\x19\\x12\\x07g~&\\xdf\\x8d\\xfc\\xc7$\\x95\\x89Q*\\xcb\\xf0\\xfcy\\xe2\\x10\\xd9`\\xff\\xd4\\x80\\xaa\\x97\\xd7\\x15\\xbeu\\xc0\\x90\\xe8\\xf7\\x89\\x86\\x1b\\x10m\\x17\\x10\\xd8\\x7f\\xb1\\xcf\\x05\\x8d\\xd3=\\x9f\\x9a6\\xc6s\\x08r5\\xea\\xa3e*\\xf3T%.+>tz\\xb8\\xc2\\xf3l\\x80\\x8e\\xe8\\xddQ\\xf7\\xd6\\x85\\x88\\xd6\\xf9\\x88\\xdbB\\xd0\\x9f7\\x05\\x9d#\\xa6P\\xd3k\\xd9/f\\x0f\\xcd\\xdb\\x15\\x01\\x00\\x00'\n"
     ]
    }
   ],
   "source": [
    "import os \n",
    "import pandas as pd\n",
    "from socket import *\n",
    "\n",
    "serverSock = socket(AF_INET, SOCK_STREAM)\n",
    "clientSock = socket(AF_INET, SOCK_STREAM)\n",
    "serverSock.bind(('', 5000))\n",
    "serverSock.listen(1)\n",
    "connectionSock, addr = serverSock.accept()\n",
    "print(str(addr),'에서 접속이 확인되었습니다.')\n",
    "data = connectionSock.recv(1024)\n",
    "print('웹브라우저에서 받은 데이터 : ', data.decode('utf-8'))\n",
    "clientSock.connect(('169.254.235.126', 80))\n",
    "print('연결 확인 됐습니다.')\n",
    "clientSock.send(data)\n",
    "print('웹서버로 메시지를 전송했습니다.')\n",
    "data = clientSock.recv(2048)\n",
    "print('받은 데이터 : ', data)\n",
    "clientSock.close()\n",
    "serverSock.close()\n",
    "\n"
   ]
  },
  {
   "cell_type": "code",
   "execution_count": 15,
   "metadata": {},
   "outputs": [
    {
     "name": "stdout",
     "output_type": "stream",
     "text": [
      "17744\n",
      "[['Signature', 'PE\\x00\\x00', 'NF Signature']]\n"
     ]
    }
   ],
   "source": [
    "import pefile\n",
    "import struct\n",
    "import datetime\n",
    "pe = pefile.PE(\"c:/imsi/USBDeview.exe\")\n",
    "print(pe.NT_HEADERS.Signature)\n",
    "nt_header_list = []\n",
    "nt_header_list.append([\"Signature\", struct.pack('<I', pe.NT_HEADERS.Signature).decode('utf8'), \"NF Signature\"])\n",
    "print (nt_header_list)"
   ]
  },
  {
   "cell_type": "code",
   "execution_count": 16,
   "metadata": {
    "scrolled": false
   },
   "outputs": [
    {
     "name": "stdout",
     "output_type": "stream",
     "text": [
      "파싱 시작 ...\n",
      "------------------------------\n",
      "[DOS Header]에서 필요한 정보\n",
      "\n",
      "실제 변수명               값                    의미                  \n",
      "e_magic              MZ                   DOS Signature       \n",
      "e_lfanew             0xf0                 NT header offset    \n",
      "------------------------------ \n",
      "\n",
      "------------------------------\n",
      "[NT header]에서 필요한 정보\n",
      "\n",
      "실제 변수명               값                    의미                  \n",
      "Signature            PE\u0000\u0000                 NF Signature        \n",
      "Machine              0x14c                CPU 별 고유값 (x86 = 0x14c / x64 = 0x8664)\n",
      "TimeDateStamp        2019-03-18 16:55:18  파일을 빌드한 시간          \n",
      "NumberOfSections     4                    Section의 총 개수       \n",
      "SizeOfOptionalHeader 0xe0                 OptionalHeader의 크기  \n",
      "Characteristics      0x103                이 파일의 속성            \n",
      "Magic                0x10b                Optional header를 구분하는 Signature (32bit=10b / 64bit=20b)\n",
      "SizeOfCode           0x12e00              IMAGE_SCN_CNT_CODE 속성을 갖는 섹션들의 총 사이즈 크기\n",
      "AddressOfEntryPoint  0x1380e              PE 파일이 메모리 로드 후 처음 실행되어야 하는 코드 주소\n",
      "ImageBase            0x400000             PE파일이 매핑되는 시작주소     \n",
      "SectionAlignment     4096                 메모리 상에서의 최소 섹션 단위   \n",
      "FileAlignment        512                  파일 상에서의 최소 섹션 단위    \n",
      "------------------------------ \n",
      "\n",
      "------------------------------\n",
      "[sections_info]에서 필요한 정보\n",
      "\n",
      "\t개념\n",
      "Name                 Section 이름을 나타냄\n",
      "VirtualAddress       섹션의 RAV(ImageBase + VA)를 위한 VA 값\n",
      "SizeOfRawData        파일 상에서 섹션이 차지하는 크기\n",
      "PointerToRawData     파일 상에서 섹션이 시작하는 위치\n",
      "Characteristics      섹션의 특징을 나타냄\n",
      "                     (0x20000000 = excutable, 0x40000000 = readable, 0x80000000 = writeable, 0x00000020 = contains code, 0x00000040 = contains initialized data)\n",
      "\n",
      "Name                 Virtual Address      SizeOfRawData        PointerToRawData     Characteristics     \n",
      ".text\u0000\u0000\u0000             0x1000               0x12e00              0x400                0x60000020\n",
      ".rdata\u0000\u0000             0x14000              0x3600               0x13200              0x40000040\n",
      ".data\u0000\u0000\u0000             0x18000              0x600                0x16800              0xc0000040\n",
      ".rsrc\u0000\u0000\u0000             0x1a000              0x6400               0x16e00              0x40000040\n",
      "------------------------------ \n",
      "\n"
     ]
    }
   ],
   "source": [
    "import pefile\n",
    "import struct\n",
    "import datetime\n",
    "\n",
    "def print_info (data_list) :\n",
    "    for data in data_list :\n",
    "        print(data[0].ljust(20), str(data[1]).ljust(20), data[2].ljust(20))\n",
    "\n",
    "\n",
    "def dos_header_info (pe) :\n",
    "    print(\"-\" * 30)\n",
    "    print(\"[DOS Header]에서 필요한 정보\\n\")\n",
    "    dos_header_list = []\n",
    "    dos_header_list.append([\"실제 변수명\", \"값\", \"의미\"])\n",
    "    dos_header_list.append([\"e_magic\", struct.pack('<H', pe.DOS_HEADER.e_magic).decode('utf8'), \"DOS Signature\"])\n",
    "    dos_header_list.append([\"e_lfanew\",hex(pe.DOS_HEADER.e_lfanew), \"NT header offset\"])\n",
    "    \n",
    "    print_info(dos_header_list)\n",
    "    \n",
    "    print(\"-\" * 30,\"\\n\")\n",
    "    \n",
    "    \n",
    "    \n",
    "def nt_header_info (pe) :\n",
    "    print(\"-\" * 30)\n",
    "    print(\"[NT header]에서 필요한 정보\\n\")\n",
    "    nt_header_list = []\n",
    "    nt_header_list.append([\"실제 변수명\", \"값\", \"의미\"])\n",
    "    nt_header_list.append([\"Signature\", struct.pack('<I', pe.NT_HEADERS.Signature).decode('utf8'), \"NF Signature\"])\n",
    "    nt_header_list.append([\"Machine\", hex(pe.FILE_HEADER.Machine), \"CPU 별 고유값 (x86 = 0x14c / x64 = 0x8664)\"])\n",
    "    \n",
    "    timeStr = '1970-01-01 00:00:00'\n",
    "    Thistime = datetime.datetime.strptime(timeStr, '%Y-%m-%d %H:%M:%S') \n",
    "    LastBuildtime = Thistime + datetime.timedelta(seconds=pe.FILE_HEADER.TimeDateStamp)\n",
    "\n",
    "    nt_header_list.append([\"TimeDateStamp\", str(LastBuildtime), \"파일을 빌드한 시간\"])\n",
    "    nt_header_list.append([\"NumberOfSections\", pe.FILE_HEADER.NumberOfSections, \"Section의 총 개수\"])\n",
    "    nt_header_list.append([\"SizeOfOptionalHeader\", hex(pe.FILE_HEADER.SizeOfOptionalHeader), \"OptionalHeader의 크기\"])\n",
    "    nt_header_list.append([\"Characteristics\", hex(pe.FILE_HEADER.Characteristics), \"이 파일의 속성\"])\n",
    "    nt_header_list.append([\"Magic\", hex(pe.OPTIONAL_HEADER.Magic), \"Optional header를 구분하는 Signature (32bit=10b / 64bit=20b)\"])\n",
    "    nt_header_list.append([\"SizeOfCode\", hex(pe.OPTIONAL_HEADER.SizeOfCode), \"IMAGE_SCN_CNT_CODE 속성을 갖는 섹션들의 총 사이즈 크기\"])\n",
    "    nt_header_list.append([\"AddressOfEntryPoint\", hex(pe.OPTIONAL_HEADER.AddressOfEntryPoint), \"PE 파일이 메모리 로드 후 처음 실행되어야 하는 코드 주소\"])\n",
    "    nt_header_list.append([\"ImageBase\",  hex(pe.OPTIONAL_HEADER.ImageBase), \"PE파일이 매핑되는 시작주소\"])\n",
    "    nt_header_list.append([\"SectionAlignment\", pe.OPTIONAL_HEADER.SectionAlignment, \"메모리 상에서의 최소 섹션 단위\"])\n",
    "    nt_header_list.append([\"FileAlignment\", pe.OPTIONAL_HEADER.FileAlignment, \"파일 상에서의 최소 섹션 단위\"])\n",
    "    \n",
    "    print_info (nt_header_list)\n",
    "    \n",
    "    print(\"-\" * 30,\"\\n\")   \n",
    "   \n",
    "    \n",
    "def sections_header_info (pe) :\n",
    "    print(\"-\" * 30)\n",
    "    print(\"[sections_info]에서 필요한 정보\\n\")\n",
    "    print(\"\\t개념\")\n",
    "    print(\"Name\".ljust(20), \"Section 이름을 나타냄\")\n",
    "    print(\"VirtualAddress\".ljust(20), \"섹션의 RAV(ImageBase + VA)를 위한 VA 값\")\n",
    "    print(\"SizeOfRawData\".ljust(20), \"파일 상에서 섹션이 차지하는 크기\")\n",
    "    print(\"PointerToRawData\".ljust(20), \"파일 상에서 섹션이 시작하는 위치\")\n",
    "    print(\"Characteristics\".ljust(20), \"섹션의 특징을 나타냄\")\n",
    "    print(\"\".ljust(20), \"(0x20000000 = excutable, 0x40000000 = readable, 0x80000000 = writeable, 0x00000020 = contains code, 0x00000040 = contains initialized data)\")\n",
    "    print(\"\")\n",
    "    \n",
    "    print(\"Name\".ljust(20), \"Virtual Address\".ljust(20), \"SizeOfRawData\".ljust(20),\n",
    "          \"PointerToRawData\".ljust(20), \"Characteristics\".ljust(20))\n",
    "    for section in pe.sections :     \n",
    "         print(section.Name.decode('utf8').ljust(20), hex(section.VirtualAddress).ljust(20),\n",
    "               hex(section.SizeOfRawData).ljust(20), hex(section.PointerToRawData).ljust(20), hex(section.Characteristics))      \n",
    "         \n",
    "    print(\"-\" * 30,\"\\n\")\n",
    "    \n",
    "    \n",
    "pe = pefile.PE(\"c:/imsi/USBDeview.exe\")\n",
    "print(\"파싱 시작 ...\")\n",
    "dos_header_info(pe)\n",
    "nt_header_info(pe)\n",
    "sections_header_info(pe)"
   ]
  },
  {
   "cell_type": "code",
   "execution_count": 3,
   "metadata": {},
   "outputs": [
    {
     "name": "stdout",
     "output_type": "stream",
     "text": [
      "\t 0x41e660 b'LoadLibraryA'\n",
      "\t 0x41e664 b'GetProcAddress'\n",
      "\t 0x41e668 b'VirtualAlloc'\n",
      "\t 0x41e66c b'VirtualFree'\n"
     ]
    }
   ],
   "source": [
    "import pefile\n",
    "\n",
    "pe = pefile.PE(\"C:/Lim/표준협회/챌린지파일/ec1093137cdb4f6482cf737631dfa301/train_set/000b53e07befbe136b3593641797bf982a399446480821384ff0f9a2107b1693.vir\")\n",
    "#pe = pefile.PE(\"C:/LimBest/표준협회/챌린지파일/0309fe817f06390d426ca0491783106e03d9886708bab28b60283ebeb2382bdf.vir\")\n",
    "#pe = pefile.PE(\"C:/LimBest/표준협회/챌린지파일/6f252415c510e8a69444e6135ecead02c74a294da4b2efee556a1fd2d9f407fc.vir\")\n",
    "#pe = pefile.PE(\"C:/temp/test.exe\")\n",
    "\n",
    "pe.parse_data_directories()\n",
    "try:\n",
    "   for entry in pe.DIRECTORY_ENTRY_IMPORT:\n",
    "      for imp in entry.imports:\n",
    "         try :\n",
    "            \n",
    "            print('\\t', hex(imp.address), imp.name)\n",
    "         except:\n",
    "            pass\n",
    "except:\n",
    "   pass\n"
   ]
  },
  {
   "cell_type": "markdown",
   "metadata": {},
   "source": [
    "# 하나의 파일 압축풀기"
   ]
  },
  {
   "cell_type": "code",
   "execution_count": 21,
   "metadata": {},
   "outputs": [],
   "source": [
    "import zipfile\n",
    "\n",
    "path_to_zip_file = 'C:/temp/test.docm'\n",
    "directory_to_extract_to = 'C:/temp/result'\n",
    "\n",
    "with zipfile.ZipFile(path_to_zip_file, 'r') as zip_ref:\n",
    "    zip_ref.extractall(directory_to_extract_to)\n"
   ]
  },
  {
   "cell_type": "markdown",
   "metadata": {},
   "source": [
    "# 디렉터리 전체를 압축하기"
   ]
  },
  {
   "cell_type": "code",
   "execution_count": 24,
   "metadata": {
    "scrolled": true
   },
   "outputs": [
    {
     "name": "stdout",
     "output_type": "stream",
     "text": [
      "c:/temp/result result.docm\n",
      "c:/temp/result [Content_Types].xml\n",
      "c:/temp/result ~$result.docm\n",
      "c:/temp/result\\docProps app.xml\n",
      "c:/temp/result\\docProps core.xml\n",
      "c:/temp/result\\word document.xml\n",
      "c:/temp/result\\word fontTable.xml\n",
      "c:/temp/result\\word settings.xml\n",
      "c:/temp/result\\word styles.xml\n",
      "c:/temp/result\\word webSettings.xml\n",
      "c:/temp/result\\word\\theme theme1.xml\n",
      "c:/temp/result\\word\\_rels document.xml.rels\n",
      "c:/temp/result\\word\\_rels vbaProject.bin.rels\n",
      "c:/temp/result\\_rels .rels\n"
     ]
    }
   ],
   "source": [
    "import os\n",
    "import zipfile\n",
    "new_zips= zipfile.ZipFile('c:/temp/test.zip', 'w')\n",
    "for folder, subfolders, files in os.walk('c:/temp/result'):\n",
    "    for file in files:\n",
    "        new_zips.write(os.path.join(folder, file), os.path.relpath(os.path.join(folder,file), 'c:/temp/'), compress_type = zipfile.ZIP_DEFLATED)\n",
    "new_zips.close()\n"
   ]
  },
  {
   "cell_type": "markdown",
   "metadata": {},
   "source": [
    "# 파일삭제"
   ]
  },
  {
   "cell_type": "code",
   "execution_count": 28,
   "metadata": {},
   "outputs": [],
   "source": [
    "import os \n",
    "# 디렉터리 삭제 \n",
    "# os.rmdir(\"c:/temp/test\")\n",
    "\n",
    "#os.remove(\"c:/temp/test.zip\")\n",
    "\n",
    "# 특정 디렉터리 및 파일삭제 \n",
    "# 서브 디렉터리까지 모두 삭제 \n",
    "import shutil \n",
    "shutil.rmtree(\"c:/temp/abc\")\n"
   ]
  },
  {
   "cell_type": "code",
   "execution_count": 35,
   "metadata": {},
   "outputs": [
    {
     "name": "stdout",
     "output_type": "stream",
     "text": [
      "A\n"
     ]
    }
   ],
   "source": [
    "test = \"ABD \\ TEST AutoOpen DDDD ZZZ\"\n",
    "index=test.find(\"AutoOpen\")\n",
    "print(test[index])"
   ]
  },
  {
   "cell_type": "code",
   "execution_count": 53,
   "metadata": {},
   "outputs": [
    {
     "name": "stdout",
     "output_type": "stream",
     "text": [
      "document.xml\n",
      "fontTable.xml\n",
      "settings.xml\n",
      "styles.xml\n",
      "theme\n",
      "vbaData.xml\n",
      "vbaProject.bin\n",
      "webSettings.xml\n",
      "_rels\n"
     ]
    }
   ],
   "source": [
    "import os\n",
    " \n",
    "def search(dir):\n",
    "        files = os.listdir(dir)\n",
    "        for file in files:\n",
    "                print(file)\n",
    " \n",
    "search(\"c:/temp/result/word\")"
   ]
  },
  {
   "cell_type": "code",
   "execution_count": 69,
   "metadata": {},
   "outputs": [
    {
     "name": "stdout",
     "output_type": "stream",
     "text": [
      "/temp\\test.docm\n",
      "/temp\\test.txt\n",
      "/temp\\test2.docx\n",
      "/temp\\오목눈이\\test.docm\n"
     ]
    }
   ],
   "source": [
    "import os\n",
    " \n",
    "def search(dir):\n",
    "        files = os.listdir(dir)\n",
    "        for file in files:\n",
    "                fullFilename = os.path.join(dir, file)\n",
    "                if os.path.isdir(fullFilename):\n",
    "                        search(fullFilename)\n",
    "                else:\n",
    "                        print(fullFilename)\n",
    " \n",
    "search(\"/temp\")"
   ]
  },
  {
   "cell_type": "code",
   "execution_count": 68,
   "metadata": {},
   "outputs": [
    {
     "name": "stdout",
     "output_type": "stream",
     "text": [
      "c:/temp/test.docm\n",
      "c:/temp/test.txt\n",
      "c:/temp/test2.docx\n"
     ]
    }
   ],
   "source": [
    "import os\n",
    "import sys\n",
    " \n",
    "def search1(dir):\n",
    "        files = os.listdir(dir)\n",
    "        for file in files:\n",
    "                fullFilename = os.path.join(dir, file)\n",
    "                if os.path.isdir(fullFilename):\n",
    "                        search(fullFilename)\n",
    "                else:\n",
    "                        print(fullFilename)\n",
    " \n",
    "searchDir = \"c:/temp/\"\n",
    "search1(searchDir)\n",
    " "
   ]
  },
  {
   "cell_type": "markdown",
   "metadata": {},
   "source": [
    "# CDR: MSWord 매크로 탐지기능"
   ]
  },
  {
   "cell_type": "code",
   "execution_count": 2,
   "metadata": {},
   "outputs": [
    {
     "name": "stdout",
     "output_type": "stream",
     "text": [
      "매크로 자동실행 기능이 포함되어 있습니다.\n"
     ]
    }
   ],
   "source": [
    "import zipfile\n",
    "import os\n",
    "import sys\n",
    "\n",
    "\n",
    "# 특정 파일 압축을 해제한다.\n",
    "def UnzipFile(path_to_zip_file, directory_to_extract_to) :\n",
    "    zip_ref = zipfile.ZipFile(path_to_zip_file, 'r')\n",
    "    zip_ref.extractall(directory_to_extract_to)\n",
    "\n",
    "def ZipFile(path_to_zip_file, directory_to_extract_to) :\n",
    "    new_zips= zipfile.ZipFile(path_to_zip_file, 'w')\n",
    "    for folder, subfolders, files in os.walk(directory_to_extract_to):\n",
    "        for file in files:\n",
    "            new_zips.write(os.path.join(folder, file), os.path.relpath(os.path.join(folder,file), resultdir), compress_type = zipfile.ZIP_DEFLATED)\n",
    "    new_zips.close()\n",
    "\n",
    "\n",
    "def search(dir):\n",
    "    files = os.listdir(dir)\n",
    "    for file in files:\n",
    "        if file == 'vbaProject.bin' :\n",
    "            return True\n",
    "    return False\n",
    "\n",
    "def MacroFile(filepath) :\n",
    "    f = open(filepath, \"r\")\n",
    "    while True:\n",
    "        data = f.readline()\n",
    "        if not data: break\n",
    "        position=data.find(\"AutoOpen\")\n",
    "        if position >= 1 :\n",
    "            f.flush()\n",
    "            f.close()\n",
    "            return True\n",
    "    f.flush()\n",
    "    f.close()\n",
    "    return False\n",
    "    \n",
    "    \n",
    "orgfile = \"C:/temp/문서1.docm\"\n",
    "resultdir=\"c:/temp/result\"\n",
    "resultpath=\"c:/temp\"\n",
    "\n",
    "# UnzipFile(orgfile , resultdir)\n",
    "macrodir = resultdir+\"/word\"\n",
    "detection = search(macrodir)\n",
    "\n",
    "if detection == True :\n",
    "    filepath= macrodir + \"/vbaData.xml\"\n",
    "    autocheck = MacroFile(filepath)\n",
    "    if autocheck == True :\n",
    "        print(\"매크로 자동실행 기능이 포함되어 있습니다.\")\n",
    "        ZipFile(\"c:/temp/reuslt.zip\", resultdir)\n",
    "\n",
    "\n"
   ]
  },
  {
   "cell_type": "code",
   "execution_count": 1,
   "metadata": {},
   "outputs": [],
   "source": [
    "import zipfile\n",
    "import os\n",
    "import sys\n",
    "\n",
    "orgfile = \"C:/temp/문서1.docm\"\n",
    "resultdir=\"c:/temp/result\"\n",
    "resultpath=\"c:/temp\"\n",
    "\n",
    "def UnzipFile(path_to_zip_file, directory_to_extract_to) :\n",
    "    zip_ref = zipfile.ZipFile(path_to_zip_file, 'r')\n",
    "    zip_ref.extractall(directory_to_extract_to)\n",
    "\n",
    "UnzipFile(orgfile , resultdir)"
   ]
  },
  {
   "cell_type": "code",
   "execution_count": null,
   "metadata": {},
   "outputs": [
    {
     "name": "stdout",
     "output_type": "stream",
     "text": [
      "CDR 분석시스템 : \n",
      "1. 매크로 파일을 탐지\n",
      "2. 매크로를 파일에서 제거\n",
      "3. 종료\n"
     ]
    }
   ],
   "source": [
    "import zipfile\n",
    "import os\n",
    "import sys\n",
    "\n",
    "\n",
    "# 특정 파일 압축을 해제한다.\n",
    "def UnzipFile(path_to_zip_file, directory_to_extract_to) :\n",
    "    zip_ref = zipfile.ZipFile(path_to_zip_file, 'r')\n",
    "    zip_ref.extractall(directory_to_extract_to)\n",
    "\n",
    "def ZipFile(path_to_zip_file, directory_to_extract_to) :\n",
    "    new_zips= zipfile.ZipFile(path_to_zip_file, 'w')\n",
    "    for folder, subfolders, files in os.walk(directory_to_extract_to):\n",
    "        for file in files:\n",
    "            new_zips.write(os.path.join(folder, file), os.path.relpath(os.path.join(folder,file), resultdir), compress_type = zipfile.ZIP_DEFLATED)\n",
    "    new_zips.close()\n",
    "\n",
    "\n",
    "def search(dir):\n",
    "    files = os.listdir(dir)\n",
    "    for file in files:\n",
    "        if file == 'vbaProject.bin' :\n",
    "            return True\n",
    "    return False\n",
    "\n",
    "def MacroFile(filepath) :\n",
    "    f = open(filepath, \"r\")\n",
    "    while True:\n",
    "        data = f.readline()\n",
    "        if not data: break\n",
    "        position=data.find(\"AutoOpen\")\n",
    "        if position >= 1 :\n",
    "            f.flush()\n",
    "            f.close()\n",
    "            return True\n",
    "    f.flush()\n",
    "    f.close()\n",
    "    return False\n",
    "\n",
    "orgfile = \"C:/temp/test.docm\"\n",
    "resultdir=\"c:/temp/result\"\n",
    "resultpath=\"c:/temp\"\n",
    "\n",
    "while True:\n",
    "    print(\"CDR 분석시스템 : \")\n",
    "    print(\"1. 매크로 파일을 탐지\")\n",
    "    print(\"2. 매크로를 파일에서 제거\")\n",
    "    print(\"3. 종료\")\n",
    "    command = int(input())\n",
    "    if command == 1 :\n",
    "        print(\"매크로 탐지 파일명을 입력하세요\")\n",
    "        orgfile = str(input())\n",
    "        UnzipFile(orgfile , resultdir)\n",
    "        macrodir = resultdir+\"/word\"\n",
    "        detection = search(macrodir)\n",
    "        if detection == True :\n",
    "            print(\"매크로를 포함고 있는 문서입니다.\")\n",
    "            filepath= macrodir + \"/vbaData.xml\"\n",
    "            autocheck = MacroFile(filepath)\n",
    "            if autocheck == True :\n",
    "                print(\"자동 실행 기능이 포함되어 있습니다.\")\n",
    "        else :\n",
    "            print(\"매크로가 없습니다.\")\n",
    "    if command == 2 :\n",
    "        print(\"매크로를 강제적으로 삭제합니다.\")\n",
    "        orgfile = str(input())\n",
    "        UnzipFile(orgfile , resultdir)\n",
    "        filepath= macrodir + \"/vbaData.xml\"\n",
    "        os.remove(filepath)\n",
    "        os.remove(macrodir +'/vbaProject.bin')\n",
    "        ZipFile(\"c:/temp/reuslt.zip\", resultdir)\n",
    "    if command == 3 :\n",
    "        print(\"프로그램을 종료합니다\")\n",
    "        break\n",
    "    \n"
   ]
  },
  {
   "cell_type": "markdown",
   "metadata": {},
   "source": [
    "# 내 컴퓨터 있는 모든 매크로 파일을 찾아라"
   ]
  },
  {
   "cell_type": "code",
   "execution_count": 1,
   "metadata": {},
   "outputs": [],
   "source": [
    "import os\n",
    "import sys\n",
    "import zipfile\n",
    "import shutil \n",
    "\n",
    "def search(dir):\n",
    "    files = os.listdir(dir)\n",
    "    for file in files:\n",
    "        if file == 'vbaProject.bin' :\n",
    "            return True\n",
    "    return False\n",
    "\n",
    "def UnzipFile(path_to_zip_file, directory_to_extract_to) :\n",
    "    zip_ref = zipfile.ZipFile(path_to_zip_file, 'r')\n",
    "    zip_ref.extractall(directory_to_extract_to)\n",
    "\n",
    "def searchMacro(dir):\n",
    "        files = os.listdir(dir)\n",
    "        for file in files:\n",
    "                fullFilename = os.path.join(dir, file)\n",
    "                if os.path.isdir(fullFilename):\n",
    "                        searchMacro(fullFilename)\n",
    "                else:\n",
    "                        filename  = fullFilename\n",
    "                        wordcount = filename.count(\"\\\\\")\n",
    "                        filename = filename.replace(\"\\\\\",\"/\",wordcount)\n",
    "                        data=filename.split('.')\n",
    "                        if data[1]==\"docm\" or data[1]==\"docx\" or data[1]==\"doc\" :\n",
    "                            print(filename)\n",
    "                            UnzipFile(filename, resultdir)\n",
    "                            macrodir = resultdir+\"/word\"\n",
    "                            detection = search(macrodir)\n",
    "                            if detection == True :\n",
    "                                print(filename, \"은 매크로를 포함하고 있습니다.\")\n",
    "                            shutil.rmtree(resultdir)                        \n",
    "searchDir = \"c:/temp\"\n",
    "resultdir=\"c:/temp/result\"\n",
    "searchMacro(searchDir)\n",
    " "
   ]
  },
  {
   "cell_type": "code",
   "execution_count": 75,
   "metadata": {},
   "outputs": [
    {
     "name": "stdout",
     "output_type": "stream",
     "text": [
      "c:/temp/test.docm\n",
      "c:/temp/test.docm 은 매크로를 포함하고 있습니다.\n",
      "c:/temp/test2.docx\n",
      "c:/temp/오목눈이/test.docm\n",
      "c:/temp/오목눈이/test.docm 은 매크로를 포함하고 있습니다.\n"
     ]
    }
   ],
   "source": [
    "import os\n",
    "import sys\n",
    "import zipfile\n",
    "import shutil \n",
    "import cx_Oracle\n",
    "import pandas as pd\n",
    "\n",
    "def search(dir):\n",
    "    files = os.listdir(dir)\n",
    "    for file in files:\n",
    "        if file == 'vbaProject.bin' :\n",
    "            return True\n",
    "    return False\n",
    "\n",
    "def UnzipFile(path_to_zip_file, directory_to_extract_to) :\n",
    "    zip_ref = zipfile.ZipFile(path_to_zip_file, 'r')\n",
    "    zip_ref.extractall(directory_to_extract_to)\n",
    "\n",
    "def searchMacro(dir):\n",
    "        files = os.listdir(dir)\n",
    "        for file in files:\n",
    "                fullFilename = os.path.join(dir, file)\n",
    "                if os.path.isdir(fullFilename):\n",
    "                        searchMacro(fullFilename)\n",
    "                else:\n",
    "                        filename  = fullFilename\n",
    "                        wordcount = filename.count(\"\\\\\")\n",
    "                        filename = filename.replace(\"\\\\\",\"/\",wordcount)\n",
    "                        data=filename.split('.')\n",
    "                        if data[1]==\"docm\" or data[1]==\"docx\" or data[1]==\"doc\" :\n",
    "                            print(filename)\n",
    "                            UnzipFile(filename, resultdir)\n",
    "                            macrodir = resultdir+\"/word\"\n",
    "                            detection = search(macrodir)\n",
    "                            if detection == True :\n",
    "                                print(filename, \"은 매크로를 포함하고 있습니다.\")\n",
    "                                sql=\"insert into t_macroinfo values(sysdate, '\"+filename+\"')\"                                 \n",
    "                                cur.execute(sql)\n",
    "                            shutil.rmtree(resultdir)                        \n",
    "\n",
    "os.putenv('NLS_LANG','KOREAN_KOREA.KO16MSWIN949')   # 한글 깨지는 것을 방지함\n",
    "con1=cx_Oracle.connect(\"system/12345678\")  # 오라클 연결, @127.0.0.1:1521/XE\n",
    "cur=con1.cursor()\n",
    "\n",
    "searchDir = \"c:/temp\"\n",
    "resultdir=\"c:/temp/result\"\n",
    "searchMacro(searchDir)\n",
    "\n",
    "con1.commit()\n",
    "cur.close()\n",
    "con1.close()"
   ]
  },
  {
   "cell_type": "code",
   "execution_count": 2,
   "metadata": {},
   "outputs": [
    {
     "name": "stdout",
     "output_type": "stream",
     "text": [
      "                TODAY             FILENAME\n",
      "0 2020-08-09 19:05:26  c:/temp/LimBest.doc\n",
      "1 2020-08-09 19:05:26     c:/temp/문서1.docm\n"
     ]
    }
   ],
   "source": [
    "import os\n",
    "import pandas as pd\n",
    "import cx_Oracle\n",
    "\n",
    "os.putenv('NLS_LANG','KOREAN_KOREA.KO16MSWIN949')   # 한글 깨지는 것을 방지함\n",
    "con1=cx_Oracle.connect(\"system/12345678\")  # 오라클 연결, @127.0.0.1:1521/XE\n",
    "cur=con1.cursor()\n",
    "\n",
    "sql = 'SELECT * FROM t_macroinfo'\n",
    "sq = pd.read_sql(sql, con=con1)\n",
    "print(sq)\n",
    "writer = pd.ExcelWriter('c:/temp/macroresult.xlsx', engine='xlsxwriter')\n",
    "sq.to_excel(writer, sheet_name='Sheet1')\n",
    "writer.close()\n",
    "cur.close()\n",
    "con1.close()"
   ]
  }
 ],
 "metadata": {
  "kernelspec": {
   "display_name": "Python 3",
   "language": "python",
   "name": "python3"
  },
  "language_info": {
   "codemirror_mode": {
    "name": "ipython",
    "version": 3
   },
   "file_extension": ".py",
   "mimetype": "text/x-python",
   "name": "python",
   "nbconvert_exporter": "python",
   "pygments_lexer": "ipython3",
   "version": "3.7.4"
  }
 },
 "nbformat": 4,
 "nbformat_minor": 2
}
